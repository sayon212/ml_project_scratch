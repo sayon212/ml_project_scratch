{
 "cells": [
  {
   "cell_type": "code",
   "execution_count": 5,
   "metadata": {},
   "outputs": [],
   "source": [
    "from housing.config.configuration import *\n",
    "from housing.constant import *\n",
    "from housing.util import *"
   ]
  },
  {
   "cell_type": "code",
   "execution_count": 6,
   "metadata": {},
   "outputs": [],
   "source": [
    "config = Configuration(config_file_path=\"D:\\iNeuron\\Project\\ml_project_scratch\\config\\config.yaml\")"
   ]
  },
  {
   "cell_type": "code",
   "execution_count": 7,
   "metadata": {},
   "outputs": [
    {
     "data": {
      "text/plain": [
       "DataIngestionConfig(dataset_download_url='https://raw.githubusercontent.com/ageron/handson-ml/master/datasets/housing/housing.tgz', tgz_download_url='d:\\\\iNeuron\\\\Project\\\\ml_project_scratch\\\\Notebooks\\\\housing\\\\artifact\\\\data_ingestion\\\\2022-09-11 12:38:04\\\\tgz_data', raw_data_dir='d:\\\\iNeuron\\\\Project\\\\ml_project_scratch\\\\Notebooks\\\\housing\\\\artifact\\\\data_ingestion\\\\2022-09-11 12:38:04\\\\raw_data', ingested_trained_dir='d:\\\\iNeuron\\\\Project\\\\ml_project_scratch\\\\Notebooks\\\\housing\\\\artifact\\\\data_ingestion\\\\2022-09-11 12:38:04\\\\ingested_data\\\\train', ingested_test_dir='d:\\\\iNeuron\\\\Project\\\\ml_project_scratch\\\\Notebooks\\\\housing\\\\artifact\\\\data_ingestion\\\\2022-09-11 12:38:04\\\\ingested_data\\\\test')"
      ]
     },
     "execution_count": 7,
     "metadata": {},
     "output_type": "execute_result"
    }
   ],
   "source": [
    "config.get_data_ingestion_config()"
   ]
  },
  {
   "cell_type": "code",
   "execution_count": null,
   "metadata": {},
   "outputs": [],
   "source": []
  }
 ],
 "metadata": {
  "kernelspec": {
   "display_name": "Python 3.7.0 64-bit ('venv')",
   "language": "python",
   "name": "python3"
  },
  "language_info": {
   "codemirror_mode": {
    "name": "ipython",
    "version": 3
   },
   "file_extension": ".py",
   "mimetype": "text/x-python",
   "name": "python",
   "nbconvert_exporter": "python",
   "pygments_lexer": "ipython3",
   "version": "3.7.0"
  },
  "orig_nbformat": 4,
  "vscode": {
   "interpreter": {
    "hash": "abcde2139738228909cf47b5155b1dfe98ba7f9259787a5f0774b410e8c9da69"
   }
  }
 },
 "nbformat": 4,
 "nbformat_minor": 2
}
